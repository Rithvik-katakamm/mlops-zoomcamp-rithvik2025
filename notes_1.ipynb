{
 "cells": [
  {
   "cell_type": "markdown",
   "id": "e231e0a5",
   "metadata": {},
   "source": [
    "# Notes for Module 1 "
   ]
  },
  {
   "cell_type": "markdown",
   "id": "327af568",
   "metadata": {},
   "source": [
    "## **ML System Design Checklist**\n",
    "\n",
    "### **1. Problem Framing**\n",
    "\n",
    "* [ ] What’s the **business problem**?\n",
    "* [ ] What are the **success metrics** (business + ML)?\n",
    "* [ ] Does this problem actually require ML? Could rules or heuristics work?\n",
    "* [ ] Who are the stakeholders & end users?\n",
    "\n",
    "---\n",
    "\n",
    "### **2. Data Strategy**\n",
    "\n",
    "* [ ] **Sources**: Where is the data coming from? Internal DB, APIs, streaming?\n",
    "* [ ] **Quality**: Missing values, duplicates, noise.\n",
    "* [ ] **Volume & frequency**: How big is the data? How often is it updated?\n",
    "* [ ] **Compliance**: Any privacy, regulatory, or legal constraints?\n",
    "\n",
    "---\n",
    "\n",
    "### **3. Feature Engineering**\n",
    "\n",
    "* [ ] Required transformations or aggregations?\n",
    "* [ ] Encoding for categorical, cyclical, or time-based features?\n",
    "* [ ] Feature selection — which are most relevant?\n",
    "\n",
    "---\n",
    "\n",
    "### **4. Model Strategy**\n",
    "\n",
    "* [ ] Which model types are candidates? (Baseline + advanced)\n",
    "* [ ] What’s the **evaluation plan**? Metrics, validation strategy (e.g., k-fold, time split).\n",
    "* [ ] Experiment tracking in place? (MLflow, Weights & Biases)\n",
    "\n",
    "---\n",
    "\n",
    "### **5. Deployment Plan**\n",
    "\n",
    "* [ ] Serving mode: batch, real-time, edge, hybrid?\n",
    "* [ ] Integration points with other systems?\n",
    "* [ ] Performance constraints: latency, throughput, cost.\n",
    "\n",
    "---\n",
    "\n",
    "### **6. Monitoring & Maintenance**\n",
    "\n",
    "* [ ] Monitoring for **service health** (uptime, latency).\n",
    "* [ ] Monitoring for **model health** (data drift, concept drift, performance decay).\n",
    "* [ ] Alerts & dashboards in place?\n",
    "\n",
    "---\n",
    "\n",
    "### **7. Iteration & Feedback**\n",
    "\n",
    "* [ ] Retraining schedule — on time, trigger-based, or hybrid?\n",
    "* [ ] Human-in-the-loop process needed?\n",
    "* [ ] How will feedback be collected & incorporated?\n",
    "\n",
    "---\n",
    "\n",
    "**Pro Tip:**\n",
    "If you walk into any ML project meeting and can talk through these **seven buckets**, you instantly sound like the person who sees the *whole chessboard* — which is exactly what MLOps Zoomcamp is training you for.\n"
   ]
  },
  {
   "cell_type": "code",
   "execution_count": null,
   "id": "c13573ea",
   "metadata": {},
   "outputs": [],
   "source": [
    "# this is just a test code im writing tomake sure i understand PR's pretty well "
   ]
  },
  {
   "cell_type": "code",
   "execution_count": 12,
   "id": "b52c360e",
   "metadata": {},
   "outputs": [],
   "source": [
    "import torch \n",
    "import torch.nn as nn\n",
    "import torch.optim as optim\n",
    "import matplotlib.pyplot as plt"
   ]
  },
  {
   "cell_type": "code",
   "execution_count": 8,
   "id": "d1c20a69",
   "metadata": {},
   "outputs": [],
   "source": [
    "features = torch.randn(300, 4)\n",
    "target = torch.randn(300, 1)\n"
   ]
  },
  {
   "cell_type": "code",
   "execution_count": 9,
   "id": "250c62c1",
   "metadata": {},
   "outputs": [
    {
     "name": "stdout",
     "output_type": "stream",
     "text": [
      "torch.Size([300, 4])\n",
      "torch.Size([300, 1])\n"
     ]
    }
   ],
   "source": [
    "print(features.shape)\n",
    "print(target.shape)"
   ]
  },
  {
   "cell_type": "code",
   "execution_count": null,
   "id": "1d574be0",
   "metadata": {},
   "outputs": [],
   "source": [
    "model = nn.Linear(4, 1)"
   ]
  },
  {
   "cell_type": "code",
   "execution_count": 14,
   "id": "bcddf630",
   "metadata": {},
   "outputs": [
    {
     "data": {
      "image/png": "[encoded data removed]",
      "text/plain": [
       "<Figure size 640x480 with 1 Axes>"
      ]
     },
     "metadata": {},
     "output_type": "display_data"
    }
   ],
   "source": [
    "optimizer = torch.optim.Adam(model.parameters(), lr=0.01)\n",
    "loss = nn.MSELoss()\n",
    "losses = []\n",
    "\n",
    "for i in range(100):\n",
    "    y_pred = model(features)\n",
    "    l = loss(y_pred, target)\n",
    "    losses.append(l.item())\n",
    "    optimizer.zero_grad()\n",
    "    l.backward()\n",
    "    optimizer.step()\n",
    "    \n",
    "plt.plot(losses)\n",
    "plt.xlabel(\"Iteration\")\n",
    "plt.ylabel(\"Loss\")\n",
    "plt.title(\"Loss over time\")\n",
    "plt.show()"
   ]
  }
 ],
 "metadata": {
  "kernelspec": {
   "display_name": "base",
   "language": "python",
   "name": "python3"
  },
  "language_info": {
   "codemirror_mode": {
    "name": "ipython",
    "version": 3
   },
   "file_extension": ".py",
   "mimetype": "text/x-python",
   "name": "python",
   "nbconvert_exporter": "python",
   "pygments_lexer": "ipython3",
   "version": "3.11.11"
  }
 },
 "nbformat": 4,
 "nbformat_minor": 5
}
