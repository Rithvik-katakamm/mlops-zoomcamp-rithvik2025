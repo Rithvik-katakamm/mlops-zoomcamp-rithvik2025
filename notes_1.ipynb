{
 "cells": [
  {
   "cell_type": "markdown",
   "id": "e231e0a5",
   "metadata": {},
   "source": [
    "# Notes for Module 1 "
   ]
  },
  {
   "cell_type": "markdown",
   "id": "327af568",
   "metadata": {},
   "source": [
    "## **ML System Design Checklist**\n",
    "\n",
    "### **1. Problem Framing**\n",
    "\n",
    "* [ ] What’s the **business problem**?\n",
    "* [ ] What are the **success metrics** (business + ML)?\n",
    "* [ ] Does this problem actually require ML? Could rules or heuristics work?\n",
    "* [ ] Who are the stakeholders & end users?\n",
    "\n",
    "---\n",
    "\n",
    "### **2. Data Strategy**\n",
    "\n",
    "* [ ] **Sources**: Where is the data coming from? Internal DB, APIs, streaming?\n",
    "* [ ] **Quality**: Missing values, duplicates, noise.\n",
    "* [ ] **Volume & frequency**: How big is the data? How often is it updated?\n",
    "* [ ] **Compliance**: Any privacy, regulatory, or legal constraints?\n",
    "\n",
    "---\n",
    "\n",
    "### **3. Feature Engineering**\n",
    "\n",
    "* [ ] Required transformations or aggregations?\n",
    "* [ ] Encoding for categorical, cyclical, or time-based features?\n",
    "* [ ] Feature selection — which are most relevant?\n",
    "\n",
    "---\n",
    "\n",
    "### **4. Model Strategy**\n",
    "\n",
    "* [ ] Which model types are candidates? (Baseline + advanced)\n",
    "* [ ] What’s the **evaluation plan**? Metrics, validation strategy (e.g., k-fold, time split).\n",
    "* [ ] Experiment tracking in place? (MLflow, Weights & Biases)\n",
    "\n",
    "---\n",
    "\n",
    "### **5. Deployment Plan**\n",
    "\n",
    "* [ ] Serving mode: batch, real-time, edge, hybrid?\n",
    "* [ ] Integration points with other systems?\n",
    "* [ ] Performance constraints: latency, throughput, cost.\n",
    "\n",
    "---\n",
    "\n",
    "### **6. Monitoring & Maintenance**\n",
    "\n",
    "* [ ] Monitoring for **service health** (uptime, latency).\n",
    "* [ ] Monitoring for **model health** (data drift, concept drift, performance decay).\n",
    "* [ ] Alerts & dashboards in place?\n",
    "\n",
    "---\n",
    "\n",
    "### **7. Iteration & Feedback**\n",
    "\n",
    "* [ ] Retraining schedule — on time, trigger-based, or hybrid?\n",
    "* [ ] Human-in-the-loop process needed?\n",
    "* [ ] How will feedback be collected & incorporated?\n",
    "\n",
    "---\n",
    "\n",
    "**Pro Tip:**\n",
    "If you walk into any ML project meeting and can talk through these **seven buckets**, you instantly sound like the person who sees the *whole chessboard* — which is exactly what MLOps Zoomcamp is training you for.\n"
   ]
  }
 ],
 "metadata": {
  "language_info": {
   "name": "python"
  }
 },
 "nbformat": 4,
 "nbformat_minor": 5
}
